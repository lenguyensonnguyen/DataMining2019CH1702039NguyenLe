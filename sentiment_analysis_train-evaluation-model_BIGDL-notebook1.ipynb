{
 "cells": [
  {
   "cell_type": "markdown",
   "metadata": {},
   "source": [
    "<h2>\n",
    "    <p>\n",
    "        MÔN DATA MINING 2019\n",
    "    </p>\n",
    "    <p style=\"color:red\">\n",
    "        LÊ NGUYỄN SƠN NGUYÊN - CH1702039 (NHÓM 9)\n",
    "    </p>\n",
    "    <P>\n",
    "        ĐỀ TÀI: Phân tích quan điểm (Sentiment Analysis) cho CSDL Internet Movie Database (IMDb)\n",
    "    </P>\n",
    "</h2>"
   ]
  },
  {
   "cell_type": "markdown",
   "metadata": {},
   "source": [
    "<h3>\n",
    "    <p style=\"color:red\">\n",
    "        SỬ DỤNG SPARK VÀ BIGDL TRONG VIỆC TẠO MODEL PHỨC TẠP DẠNG KERAS CÓ KHẢ NĂNG TRAINING PHÂN TÁN.\n",
    "    </p>\n",
    "     <img src=\"https://i.ibb.co/xXjMKZS/Drawing5.jpg\" height=\"70%\" width=\"70%\"> \n",
    "</h3>"
   ]
  },
  {
   "cell_type": "markdown",
   "metadata": {},
   "source": [
    "<h4>\n",
    "    <p style=\"color: blue\">\n",
    "        Dùng gói findSpark để khởi tạo môi trường chạy\n",
    "    </p>\n",
    "</h4>"
   ]
  },
  {
   "cell_type": "code",
   "execution_count": 1,
   "metadata": {
    "ExecuteTime": {
     "end_time": "2020-03-23T02:17:04.668088Z",
     "start_time": "2020-03-23T02:17:04.625064Z"
    }
   },
   "outputs": [],
   "source": [
    "import findspark\n",
    "findspark.init()"
   ]
  },
  {
   "cell_type": "markdown",
   "metadata": {},
   "source": [
    "<h4>\n",
    "    <p style=\"color:red\">\n",
    "        Import các thư viện của PySpark\n",
    "    </p>\n",
    "</h4>"
   ]
  },
  {
   "cell_type": "code",
   "execution_count": 2,
   "metadata": {
    "ExecuteTime": {
     "end_time": "2020-03-23T02:17:08.274998Z",
     "start_time": "2020-03-23T02:17:06.433568Z"
    }
   },
   "outputs": [],
   "source": [
    "from pyspark import SparkContext, SparkConf\n",
    "from pyspark.sql import SparkSession\n",
    "from pyspark.ml import Pipeline, PipelineModel\n",
    "from pyspark.ml.feature import Tokenizer, StopWordsRemover, HashingTF, IDF\n",
    "from os import listdir\n",
    "from pyspark.sql.types import *\n",
    "from pyspark.ml.evaluation import *"
   ]
  },
  {
   "cell_type": "markdown",
   "metadata": {},
   "source": [
    "<h4>\n",
    "    <p style=\"color:blue\">\n",
    "        Khai báo số memory mà mỗi Worker sẽ sử dụng để thực thi task\n",
    "    </p>\n",
    "</h4>"
   ]
  },
  {
   "cell_type": "code",
   "execution_count": 3,
   "metadata": {
    "ExecuteTime": {
     "end_time": "2020-03-23T02:17:09.949366Z",
     "start_time": "2020-03-23T02:17:09.915329Z"
    }
   },
   "outputs": [
    {
     "name": "stdout",
     "output_type": "stream",
     "text": [
      "[('spark.app.name', 'Sentiment Analysic Data mining Keras1'), ('spark.repl.local.jars', 'file:///C:/Users/practice/dist-spark-2.4.0-scala-2.11.8-all-0.9.0-dist/lib/bigdl-SPARK_2.4-0.9.0-jar-with-dependencies.jar'), ('spark.sql.catalogImplementation', 'in-memory'), ('spark.executor.extraClassPath', 'C:\\\\Users\\\\practice\\\\dist-spark-2.4.0-scala-2.11.8-all-0.9.0-dist\\\\lib\\\\bigdl-SPARK_2.4-0.9.0-jar-with-dependencies.jar'), ('spark.shuffle.reduceLocality.enabled', 'false'), ('spark.shuffle.blockTransferService', 'nio'), ('spark.files', 'file:///C:/Users/practice/dist-spark-2.4.0-scala-2.11.8-all-0.9.0-dist/lib/bigdl-0.9.0-python-api.zip'), ('spark.driver.extraClassPath', 'C:\\\\Users\\\\practice\\\\dist-spark-2.4.0-scala-2.11.8-all-0.9.0-dist\\\\lib\\\\bigdl-SPARK_2.4-0.9.0-jar-with-dependencies.jar'), ('spark.jars', 'file:///C:/Users/practice/dist-spark-2.4.0-scala-2.11.8-all-0.9.0-dist/lib/bigdl-SPARK_2.4-0.9.0-jar-with-dependencies.jar'), ('spark.speculation', 'false'), ('spark.master', 'spark://192.168.1.94:7077'), ('spark.executor.memory', '7065m'), ('spark.scheduler.minRegisteredResourcesRatio', '1.0'), ('spark.submit.deployMode', 'client'), ('spark.ui.showConsoleProgress', 'true'), ('spark.submit.pyFiles', 'C:/Users/practice/dist-spark-2.4.0-scala-2.11.8-all-0.9.0-dist/lib/bigdl-0.9.0-python-api.zip')]\n"
     ]
    }
   ],
   "source": [
    "sc_conf = SparkConf()\n",
    "sc_conf.setAppName(\"Sentiment Analysic Data mining Keras1\")\n",
    "sc_conf.setMaster(\"spark://192.168.1.94:7077\")\n",
    "sc_conf.set('spark.executor.memory', '7065m')\n",
    "print(sc_conf.getAll())"
   ]
  },
  {
   "cell_type": "code",
   "execution_count": 4,
   "metadata": {
    "ExecuteTime": {
     "end_time": "2020-03-23T02:17:10.930300Z",
     "start_time": "2020-03-23T02:17:10.923293Z"
    }
   },
   "outputs": [],
   "source": [
    "# tạo spark context, lưu ý nhớ thay đổi lại địa chỉ của spark cho phù hợp\n",
    "sc = SparkContext.getOrCreate(sc_conf)\n",
    "spark = SparkSession.builder.getOrCreate()\n",
    "sqlContext = SQLContext(sc)"
   ]
  },
  {
   "cell_type": "code",
   "execution_count": 5,
   "metadata": {
    "ExecuteTime": {
     "end_time": "2020-03-23T02:17:11.748911Z",
     "start_time": "2020-03-23T02:17:11.706871Z"
    }
   },
   "outputs": [
    {
     "data": {
      "text/html": [
       "\n",
       "        <div>\n",
       "            <p><b>SparkContext</b></p>\n",
       "\n",
       "            <p><a href=\"http://bao-pc:4040\">Spark UI</a></p>\n",
       "\n",
       "            <dl>\n",
       "              <dt>Version</dt>\n",
       "                <dd><code>v2.4.4</code></dd>\n",
       "              <dt>Master</dt>\n",
       "                <dd><code>local[*]</code></dd>\n",
       "              <dt>AppName</dt>\n",
       "                <dd><code>PySparkShell</code></dd>\n",
       "            </dl>\n",
       "        </div>\n",
       "        "
      ],
      "text/plain": [
       "<SparkContext master=local[*] appName=PySparkShell>"
      ]
     },
     "execution_count": 5,
     "metadata": {},
     "output_type": "execute_result"
    }
   ],
   "source": [
    "sc"
   ]
  },
  {
   "cell_type": "code",
   "execution_count": 6,
   "metadata": {
    "ExecuteTime": {
     "end_time": "2020-03-23T02:17:15.464236Z",
     "start_time": "2020-03-23T02:17:12.796198Z"
    }
   },
   "outputs": [
    {
     "data": {
      "text/html": [
       "\n",
       "            <div>\n",
       "                <p><b>SparkSession - in-memory</b></p>\n",
       "                \n",
       "        <div>\n",
       "            <p><b>SparkContext</b></p>\n",
       "\n",
       "            <p><a href=\"http://bao-pc:4040\">Spark UI</a></p>\n",
       "\n",
       "            <dl>\n",
       "              <dt>Version</dt>\n",
       "                <dd><code>v2.4.4</code></dd>\n",
       "              <dt>Master</dt>\n",
       "                <dd><code>local[*]</code></dd>\n",
       "              <dt>AppName</dt>\n",
       "                <dd><code>PySparkShell</code></dd>\n",
       "            </dl>\n",
       "        </div>\n",
       "        \n",
       "            </div>\n",
       "        "
      ],
      "text/plain": [
       "<pyspark.sql.session.SparkSession at 0x7ed01025f8>"
      ]
     },
     "execution_count": 6,
     "metadata": {},
     "output_type": "execute_result"
    }
   ],
   "source": [
    "spark"
   ]
  },
  {
   "cell_type": "code",
   "execution_count": 7,
   "metadata": {
    "ExecuteTime": {
     "end_time": "2020-03-23T02:17:16.367205Z",
     "start_time": "2020-03-23T02:17:16.364218Z"
    }
   },
   "outputs": [],
   "source": [
    "# khai báo một số hằng số\n",
    "NUMBER_INSTANCE_FOR_PC = 1000\n",
    "NUMBER_FEATURE_VECTOR = 500"
   ]
  },
  {
   "cell_type": "code",
   "execution_count": 8,
   "metadata": {
    "ExecuteTime": {
     "end_time": "2020-03-23T02:17:17.430483Z",
     "start_time": "2020-03-23T02:17:17.422484Z"
    }
   },
   "outputs": [],
   "source": [
    "# đường dẫn đến tập train positive\n",
    "TRAIN_PATH_POS = \"./sentiment_data/aclImdb/train/pos/\"\n",
    "# đường dẫn đến tập train negative\n",
    "TRAIN_PATH_NEG = \"./sentiment_data/aclImdb/train/neg/\""
   ]
  },
  {
   "cell_type": "code",
   "execution_count": 9,
   "metadata": {
    "ExecuteTime": {
     "end_time": "2020-03-23T02:17:18.474690Z",
     "start_time": "2020-03-23T02:17:18.470683Z"
    }
   },
   "outputs": [],
   "source": [
    "# biến lưu dữ liệu train cả positive và negative\n",
    "data_train = []"
   ]
  },
  {
   "cell_type": "markdown",
   "metadata": {},
   "source": [
    "<h4>\n",
    "    <p style=\"color:blue\">\n",
    "        Dữ liệu có 2 tập:\n",
    "    </p>\n",
    "    <p style=\"color:red\">\n",
    "        Positive: nhận xét tích cực, chứa các câu nhận xét mang ý nghĩa tích cực, sẽ được đánh label là 1\n",
    "    </p>\n",
    "    <p style=\"color:red\">\n",
    "        Negative: nhận xét tiêu cực, chứa các câu nhận xét mang ý nghĩa tiêu cực, sẽ được đánh label là 2\n",
    "    </p>\n",
    "</h4>"
   ]
  },
  {
   "cell_type": "code",
   "execution_count": 10,
   "metadata": {
    "ExecuteTime": {
     "end_time": "2020-03-23T02:17:21.501123Z",
     "start_time": "2020-03-23T02:17:21.190869Z"
    }
   },
   "outputs": [
    {
     "data": {
      "text/plain": [
       "<enumerate at 0x7ed03fdee8>"
      ]
     },
     "execution_count": 10,
     "metadata": {},
     "output_type": "execute_result"
    }
   ],
   "source": [
    "# đọc dữ liệu của data train positive\n",
    "listfile_pos = listdir(TRAIN_PATH_POS)\n",
    "listfile_pos = enumerate(listfile_pos)\n",
    "listfile_pos"
   ]
  },
  {
   "cell_type": "markdown",
   "metadata": {},
   "source": []
  },
  {
   "cell_type": "code",
   "execution_count": 11,
   "metadata": {
    "ExecuteTime": {
     "end_time": "2020-03-23T02:17:25.206852Z",
     "start_time": "2020-03-23T02:17:24.174099Z"
    }
   },
   "outputs": [
    {
     "name": "stdout",
     "output_type": "stream",
     "text": [
      "'charmap' codec can't decode byte 0x9d in position 803: character maps to <undefined>\n"
     ]
    }
   ],
   "source": [
    "counter = 1\n",
    "for index, file_pos in listfile_pos:\n",
    "    try:\n",
    "        with open(TRAIN_PATH_POS + file_pos, 'r') as f_pos:\n",
    "            noidung = f_pos.read()\n",
    "            noidung = noidung.lower()\n",
    "            # đánh label cho tập data train positive là 1\n",
    "            data_train.append((index, noidung, 1.0))\n",
    "        if counter >= NUMBER_INSTANCE_FOR_PC:\n",
    "            break\n",
    "        else:\n",
    "            counter = counter + 1\n",
    "    except Exception as e:\n",
    "        print(e)"
   ]
  },
  {
   "cell_type": "markdown",
   "metadata": {},
   "source": []
  },
  {
   "cell_type": "code",
   "execution_count": 12,
   "metadata": {
    "ExecuteTime": {
     "end_time": "2020-03-23T02:17:27.864877Z",
     "start_time": "2020-03-23T02:17:27.856870Z"
    }
   },
   "outputs": [
    {
     "data": {
      "text/plain": [
       "1000"
      ]
     },
     "execution_count": 12,
     "metadata": {},
     "output_type": "execute_result"
    }
   ],
   "source": [
    "len(data_train)"
   ]
  },
  {
   "cell_type": "markdown",
   "metadata": {},
   "source": []
  },
  {
   "cell_type": "code",
   "execution_count": 13,
   "metadata": {
    "ExecuteTime": {
     "end_time": "2020-03-23T02:17:30.214609Z",
     "start_time": "2020-03-23T02:17:29.895385Z"
    }
   },
   "outputs": [
    {
     "data": {
      "text/plain": [
       "<enumerate at 0x7ed03fdf30>"
      ]
     },
     "execution_count": 13,
     "metadata": {},
     "output_type": "execute_result"
    }
   ],
   "source": [
    "# lấy dữ liệu cho tập data train negative\n",
    "listfile_neg = listdir(TRAIN_PATH_NEG)\n",
    "listfile_neg = enumerate(listfile_neg)\n",
    "listfile_neg"
   ]
  },
  {
   "cell_type": "code",
   "execution_count": 14,
   "metadata": {
    "ExecuteTime": {
     "end_time": "2020-03-23T02:17:33.217671Z",
     "start_time": "2020-03-23T02:17:31.172781Z"
    }
   },
   "outputs": [],
   "source": [
    "counter = 1\n",
    "for index, file_neg in listfile_neg:\n",
    "    try:\n",
    "        with open(TRAIN_PATH_NEG + file_neg) as f_neg:\n",
    "            noidung_neg = f_neg.read()\n",
    "            noidung_neg = noidung_neg.lower()\n",
    "            # đánh label cho data train negative là 0\n",
    "            data_train.append((index, noidung_neg, 2.0))\n",
    "            if counter >= NUMBER_INSTANCE_FOR_PC:\n",
    "                break\n",
    "            else:\n",
    "                counter = counter + 1\n",
    "    except Exception as e:\n",
    "        print(e)"
   ]
  },
  {
   "cell_type": "code",
   "execution_count": 15,
   "metadata": {
    "ExecuteTime": {
     "end_time": "2020-03-23T02:17:33.463843Z",
     "start_time": "2020-03-23T02:17:33.443826Z"
    }
   },
   "outputs": [
    {
     "data": {
      "text/plain": [
       "2000"
      ]
     },
     "execution_count": 15,
     "metadata": {},
     "output_type": "execute_result"
    }
   ],
   "source": [
    "len(data_train)"
   ]
  },
  {
   "cell_type": "markdown",
   "metadata": {},
   "source": [
    "<h4>\n",
    "    <p style=\"color:red\">\n",
    "        Tạo đối tượng DataFrame trong Spark để chứa dữ liệu train, đây là kiểu dữ liệu chuẩn trong việc xử lý phân tán và có thể thao tác dưới dạng SQL, lúc này dữ liệu train đã ở dạng phân tán khắp cluster\n",
    "    </p>\n",
    "</h4>"
   ]
  },
  {
   "cell_type": "code",
   "execution_count": 16,
   "metadata": {
    "ExecuteTime": {
     "end_time": "2020-03-23T02:17:48.466972Z",
     "start_time": "2020-03-23T02:17:36.248270Z"
    }
   },
   "outputs": [],
   "source": [
    "# tạo DataFrame trong Spark\n",
    "sentenceDataFrame_train = spark.createDataFrame(data_train,\n",
    "                                                [\"id\", \"sentence\", \"label\"])"
   ]
  },
  {
   "cell_type": "markdown",
   "metadata": {},
   "source": [
    "<h4>\n",
    "    <p style=\"color:blue\">\n",
    "        Tạo một cấu trúc Pipeline trong Spark gồm có:\n",
    "    </p>\n",
    "    <p style=\"color:green\">\n",
    "        1. Tokenizer để rời rạc hóa câu trong data train. Ví dụ: \"I am bad\" --> [ \"I\", \"am\", \"bad\" ]\n",
    "    </p>\n",
    "    <p style=\"color:green\">\n",
    "        2. StopWordsRemover để loại bỏ các từ không mang giá trị phân biệt, ví dụ: I, You,...\n",
    "    </p>\n",
    "    <p style=\"color:green\">\n",
    "        3. HashingTF để tính TF (Tern Frequency)\n",
    "    </p>\n",
    "    <p style=\"color:green\">\n",
    "        4. IDF để tính IDF, lúc này ứng với mỗi câu sẽ có một cột features là một vector đại diện cho dạng biểu diễn của câu đó\n",
    "    </p>\n",
    "    \n",
    "</h4>"
   ]
  },
  {
   "cell_type": "code",
   "execution_count": 17,
   "metadata": {
    "ExecuteTime": {
     "end_time": "2020-03-23T02:17:53.091634Z",
     "start_time": "2020-03-23T02:17:52.464669Z"
    }
   },
   "outputs": [],
   "source": [
    "# Tokenize (rời rạc hóa) word trong câu in data train\n",
    "tk_train = Tokenizer(inputCol=\"sentence\", outputCol=\"words_raw\")\n",
    "\n",
    "# loại bỏ từ stop word ---> là những từ không mang ý nghĩa phân biệt nhiều,\n",
    "# cũng như lập lại quá nhiều lần trong các câu, ví dụ: I, You,...\n",
    "stop_remover_train = StopWordsRemover(inputCol=\"words_raw\",\n",
    "                                      outputCol=\"filtered\")\n",
    "\n",
    "# tính TF (Tern Frequency)\n",
    "tf_train = HashingTF(inputCol=\"filtered\",\n",
    "                     outputCol=\"rawFeatures\",\n",
    "                     numFeatures=NUMBER_FEATURE_VECTOR)\n",
    "\n",
    "# tính IDF (Invert Tern Frequency)\n",
    "idf_train = IDF(inputCol=\"rawFeatures\", outputCol=\"features\")"
   ]
  },
  {
   "cell_type": "code",
   "execution_count": 18,
   "metadata": {
    "ExecuteTime": {
     "end_time": "2020-03-23T02:17:54.178274Z",
     "start_time": "2020-03-23T02:17:54.167264Z"
    }
   },
   "outputs": [
    {
     "data": {
      "text/plain": [
       "Tokenizer_4b731722c414"
      ]
     },
     "execution_count": 18,
     "metadata": {},
     "output_type": "execute_result"
    }
   ],
   "source": [
    "tk_train"
   ]
  },
  {
   "cell_type": "code",
   "execution_count": 19,
   "metadata": {
    "ExecuteTime": {
     "end_time": "2020-03-23T02:17:55.365456Z",
     "start_time": "2020-03-23T02:17:55.359473Z"
    }
   },
   "outputs": [
    {
     "data": {
      "text/plain": [
       "StopWordsRemover_ad448d27f387"
      ]
     },
     "execution_count": 19,
     "metadata": {},
     "output_type": "execute_result"
    }
   ],
   "source": [
    "stop_remover_train"
   ]
  },
  {
   "cell_type": "code",
   "execution_count": 20,
   "metadata": {
    "ExecuteTime": {
     "end_time": "2020-03-23T02:17:56.480403Z",
     "start_time": "2020-03-23T02:17:56.473398Z"
    }
   },
   "outputs": [
    {
     "data": {
      "text/plain": [
       "HashingTF_4d4803009191"
      ]
     },
     "execution_count": 20,
     "metadata": {},
     "output_type": "execute_result"
    }
   ],
   "source": [
    "tf_train"
   ]
  },
  {
   "cell_type": "code",
   "execution_count": 21,
   "metadata": {
    "ExecuteTime": {
     "end_time": "2020-03-23T02:17:57.372367Z",
     "start_time": "2020-03-23T02:17:57.365344Z"
    }
   },
   "outputs": [
    {
     "data": {
      "text/plain": [
       "IDF_10847f2642d9"
      ]
     },
     "execution_count": 21,
     "metadata": {},
     "output_type": "execute_result"
    }
   ],
   "source": [
    "idf_train"
   ]
  },
  {
   "cell_type": "markdown",
   "metadata": {},
   "source": [
    "<h4>\n",
    "    <p>\n",
    "        Tạo đối tượng Pipeline gồm các bước như đã định nghĩa ở trên\n",
    "    </p>\n",
    "</h4>"
   ]
  },
  {
   "cell_type": "code",
   "execution_count": 22,
   "metadata": {
    "ExecuteTime": {
     "end_time": "2020-03-23T02:18:00.264171Z",
     "start_time": "2020-03-23T02:18:00.258167Z"
    }
   },
   "outputs": [],
   "source": [
    "pl = Pipeline(stages=[tk_train, stop_remover_train, tf_train, idf_train])"
   ]
  },
  {
   "cell_type": "markdown",
   "metadata": {},
   "source": [
    "<h4>\n",
    "    <p style=\"color:red\">\n",
    "        Bắt đầu Train tập dữ liệu ĐỂ LẤY FEATURE TF-IDF\n",
    "    </p>\n",
    "</h4>"
   ]
  },
  {
   "cell_type": "code",
   "execution_count": 23,
   "metadata": {
    "ExecuteTime": {
     "end_time": "2020-03-23T02:18:22.874491Z",
     "start_time": "2020-03-23T02:18:03.679930Z"
    }
   },
   "outputs": [],
   "source": [
    "modelF = pl.fit(sentenceDataFrame_train)"
   ]
  },
  {
   "cell_type": "code",
   "execution_count": 24,
   "metadata": {
    "ExecuteTime": {
     "end_time": "2020-03-23T02:18:30.977988Z",
     "start_time": "2020-03-23T02:18:30.972985Z"
    }
   },
   "outputs": [
    {
     "data": {
      "text/plain": [
       "PipelineModel_10dfd8418f73"
      ]
     },
     "execution_count": 24,
     "metadata": {},
     "output_type": "execute_result"
    }
   ],
   "source": [
    "modelF"
   ]
  },
  {
   "cell_type": "code",
   "execution_count": 25,
   "metadata": {
    "ExecuteTime": {
     "end_time": "2020-03-23T02:18:32.145007Z",
     "start_time": "2020-03-23T02:18:31.877819Z"
    }
   },
   "outputs": [
    {
     "data": {
      "text/plain": [
       "DataFrame[id: bigint, sentence: string, label: double, words_raw: array<string>, filtered: array<string>, rawFeatures: vector, features: vector]"
      ]
     },
     "execution_count": 25,
     "metadata": {},
     "output_type": "execute_result"
    }
   ],
   "source": [
    "tf_data = modelF.transform(sentenceDataFrame_train)\n",
    "tf_data"
   ]
  },
  {
   "cell_type": "code",
   "execution_count": 26,
   "metadata": {
    "ExecuteTime": {
     "end_time": "2020-03-23T02:18:33.884061Z",
     "start_time": "2020-03-23T02:18:33.816006Z"
    }
   },
   "outputs": [],
   "source": [
    "tf_data_select = tf_data.select(\"features\", \"label\")"
   ]
  },
  {
   "cell_type": "markdown",
   "metadata": {},
   "source": [
    "<h4>\n",
    "    <p style=\"color:red\">\n",
    "        SAU KHI ĐÃ CÓ ĐƯỢC VECTOR FEATURE VÀ LABEL CHO BỘ DỮ LIỆU TRAIN\n",
    "    </p>\n",
    "</h4>"
   ]
  },
  {
   "cell_type": "code",
   "execution_count": 27,
   "metadata": {
    "ExecuteTime": {
     "end_time": "2020-03-23T02:18:36.850161Z",
     "start_time": "2020-03-23T02:18:36.844157Z"
    }
   },
   "outputs": [
    {
     "data": {
      "text/plain": [
       "DataFrame[features: vector, label: double]"
      ]
     },
     "execution_count": 27,
     "metadata": {},
     "output_type": "execute_result"
    }
   ],
   "source": [
    "tf_data_select"
   ]
  },
  {
   "cell_type": "markdown",
   "metadata": {},
   "source": [
    "<h4>\n",
    "    <p style=\"color:red\">\n",
    "        IMPORT THƯ VIỆN CỦA BIGDL\n",
    "    </p>\n",
    "</h4>"
   ]
  },
  {
   "cell_type": "code",
   "execution_count": 28,
   "metadata": {
    "ExecuteTime": {
     "end_time": "2020-03-23T02:18:39.713483Z",
     "start_time": "2020-03-23T02:18:39.331228Z"
    }
   },
   "outputs": [],
   "source": [
    "from bigdl.nn.layer import *\n",
    "from bigdl.nn.criterion import *\n",
    "from bigdl.optim.optimizer import *\n",
    "from bigdl.util.common import *\n",
    "from bigdl.dataset.transformer import *\n",
    "from bigdl.dlframes.dl_classifier import *"
   ]
  },
  {
   "cell_type": "markdown",
   "metadata": {},
   "source": [
    "<h4>\n",
    "    <p>\n",
    "        KHỞI TẠO MÔI TRƯỜNG CHO BIGDL\n",
    "    </p>\n",
    "</h4>"
   ]
  },
  {
   "cell_type": "code",
   "execution_count": 29,
   "metadata": {
    "ExecuteTime": {
     "end_time": "2020-03-23T02:18:44.912550Z",
     "start_time": "2020-03-23T02:18:42.098575Z"
    }
   },
   "outputs": [],
   "source": [
    "init_engine()"
   ]
  },
  {
   "cell_type": "markdown",
   "metadata": {},
   "source": [
    "<h4>\n",
    "    <p style=\"color:red\">\n",
    "        ĐỊNH NGHĨA MẠNG NEURAL KIỂU KERAS\n",
    "    </p>\n",
    "    <img src=\"https://pluralsight.imgix.net/course-images/keras-deep-learning-v1.png\" height=\"70%\" width=\"70%\"/>\n",
    "    <p style=\"color:green\">\n",
    "        Tham khảo thêm thông tin về các định nghĩa một Neural NetWork trong BigDL tại:\n",
    "    </p>\n",
    "    <a href=\"https://bigdl-project.github.io/0.9.0/#ProgrammingGuide/Model/Sequential/\">https://bigdl-project.github.io/0.9.0/#ProgrammingGuide/Model/Sequential/</a>\n",
    "</h4>"
   ]
  },
  {
   "cell_type": "code",
   "execution_count": 30,
   "metadata": {
    "ExecuteTime": {
     "end_time": "2020-03-23T02:18:49.565693Z",
     "start_time": "2020-03-23T02:18:48.898208Z"
    }
   },
   "outputs": [
    {
     "name": "stdout",
     "output_type": "stream",
     "text": [
      "creating: createSequential\n",
      "creating: createReshape\n",
      "creating: createLinear\n",
      "creating: createReLU\n",
      "creating: createLinear\n",
      "creating: createReLU\n",
      "creating: createLinear\n",
      "creating: createLogSoftMax\n"
     ]
    },
    {
     "data": {
      "text/plain": [
       "<bigdl.nn.layer.Sequential at 0x7ed1cb0048>"
      ]
     },
     "execution_count": 30,
     "metadata": {},
     "output_type": "execute_result"
    }
   ],
   "source": [
    "model = Sequential()\n",
    "# Hidden layer with ReLu activation\n",
    "model.add(Reshape([500]))\n",
    "model.add(Linear(500, 1000).set_name('mlp_fc1'))\n",
    "model.add(ReLU())\n",
    "# Hidden layer with ReLu activation\n",
    "model.add(Linear(1000, 500).set_name('mlp_fc2'))\n",
    "model.add(ReLU())\n",
    "# output layer\n",
    "model.add(Linear(500, 2).set_name('mlp_fc3'))\n",
    "model.add(LogSoftMax())"
   ]
  },
  {
   "cell_type": "code",
   "execution_count": 31,
   "metadata": {
    "ExecuteTime": {
     "end_time": "2020-03-23T02:18:51.259165Z",
     "start_time": "2020-03-23T02:18:51.201121Z"
    }
   },
   "outputs": [
    {
     "name": "stdout",
     "output_type": "stream",
     "text": [
      "creating: createClassNLLCriterion\n"
     ]
    }
   ],
   "source": [
    "classNLL_criterion = ClassNLLCriterion()"
   ]
  },
  {
   "cell_type": "markdown",
   "metadata": {},
   "source": [
    "<h4>\n",
    "    <p style=\"color:blue\">\n",
    "        TẠO MODEL CLASSIFIER DỰA VÀO MẠNG NEURAL Ở TRÊN\n",
    "    </p>\n",
    "</h4>"
   ]
  },
  {
   "cell_type": "code",
   "execution_count": 32,
   "metadata": {
    "ExecuteTime": {
     "end_time": "2020-03-23T02:18:56.889670Z",
     "start_time": "2020-03-23T02:18:56.771601Z"
    }
   },
   "outputs": [
    {
     "name": "stdout",
     "output_type": "stream",
     "text": [
      "creating: createDLClassifier\n"
     ]
    }
   ],
   "source": [
    "classifier = DLClassifier(model=model,\n",
    "                          criterion=classNLL_criterion,\n",
    "                          feature_size=[500])"
   ]
  },
  {
   "cell_type": "markdown",
   "metadata": {},
   "source": [
    "<h4>\n",
    "    <p style=\"color:red\">\n",
    "        SET CÁC THAM SỐ KHI TRAIN\n",
    "    </p>\n",
    "</h4>"
   ]
  },
  {
   "cell_type": "code",
   "execution_count": 33,
   "metadata": {
    "ExecuteTime": {
     "end_time": "2020-03-23T02:18:59.234289Z",
     "start_time": "2020-03-23T02:18:59.227296Z"
    }
   },
   "outputs": [
    {
     "data": {
      "text/plain": [
       "DLClassifier_ccb835cac3a2"
      ]
     },
     "execution_count": 33,
     "metadata": {},
     "output_type": "execute_result"
    }
   ],
   "source": [
    "classifier.setBatchSize(4).setMaxEpoch(10).setLearningRate(0.01)"
   ]
  },
  {
   "cell_type": "markdown",
   "metadata": {},
   "source": [
    "<h4>\n",
    "    <p style=\"color:red\">\n",
    "        Bắt đầu Train MẠNG NEURAL trong BigDL\n",
    "    </p>\n",
    "</h4>"
   ]
  },
  {
   "cell_type": "code",
   "execution_count": 34,
   "metadata": {
    "ExecuteTime": {
     "end_time": "2020-03-23T02:28:51.780173Z",
     "start_time": "2020-03-23T02:19:06.745979Z"
    }
   },
   "outputs": [],
   "source": [
    "dlModel = classifier.fit(tf_data_select)"
   ]
  },
  {
   "cell_type": "markdown",
   "metadata": {},
   "source": [
    "<h4>\n",
    "    <p>\n",
    "        In ra Model BigDL (Deep NN) sau khi train\n",
    "    </p>\n",
    "</h4>"
   ]
  },
  {
   "cell_type": "code",
   "execution_count": 174,
   "metadata": {
    "ExecuteTime": {
     "end_time": "2019-10-28T07:55:52.382714Z",
     "start_time": "2019-10-28T07:55:52.378702Z"
    }
   },
   "outputs": [
    {
     "data": {
      "text/plain": [
       "DLClassifierModel_1eb9f046b922"
      ]
     },
     "execution_count": 174,
     "metadata": {},
     "output_type": "execute_result"
    }
   ],
   "source": [
    "dlModel"
   ]
  },
  {
   "cell_type": "markdown",
   "metadata": {},
   "source": [
    "<h4>\n",
    "    <p style=\"color:blue\">\n",
    "        Chuẩn bị tập dữ liệu test - đánh giá mạng Neural BigDL\n",
    "    </p>\n",
    "</h4>"
   ]
  },
  {
   "cell_type": "code",
   "execution_count": 178,
   "metadata": {
    "ExecuteTime": {
     "end_time": "2019-10-28T07:56:13.533339Z",
     "start_time": "2019-10-28T07:56:13.530324Z"
    }
   },
   "outputs": [],
   "source": [
    "# khai báo một số hằng số\n",
    "NUMBER_INSTANCE_FOR_PC = 1000\n",
    "# NUMBER_FEATURE_VECTOR = 500\n",
    "# đường dẫn đến tập train positive\n",
    "TEST_PATH_POS = \"./semantic_data/aclImdb/test/pos/\"\n",
    "# đường dẫn đến tập train negative\n",
    "TEST_PATH_NEG = \"./semantic_data/aclImdb/test/neg/\"\n",
    "# biến lưu dữ liệu train cả positive và negative\n",
    "data_test = []"
   ]
  },
  {
   "cell_type": "code",
   "execution_count": 179,
   "metadata": {
    "ExecuteTime": {
     "end_time": "2019-10-28T07:56:23.184948Z",
     "start_time": "2019-10-28T07:56:23.057844Z"
    }
   },
   "outputs": [
    {
     "name": "stdout",
     "output_type": "stream",
     "text": [
      "'charmap' codec can't decode byte 0x9d in position 1899: character maps to <undefined>\n"
     ]
    }
   ],
   "source": [
    "# đọc dữ liệu của data train positive\n",
    "listfile_pos = listdir(TEST_PATH_POS)\n",
    "listfile_pos = enumerate(listfile_pos)\n",
    "counter = 1\n",
    "for index, file_pos in listfile_pos:\n",
    "    try:\n",
    "        with open(TEST_PATH_POS + file_pos, 'r') as f_pos:\n",
    "            noidung = f_pos.read()\n",
    "            noidung = noidung.lower()\n",
    "            # đánh label cho tập data train positive là 1\n",
    "            data_test.append((index, noidung, 1.0))\n",
    "        if counter >= NUMBER_INSTANCE_FOR_PC:\n",
    "            break\n",
    "        else:\n",
    "            counter = counter + 1\n",
    "    except Exception as e:\n",
    "        print(e)"
   ]
  },
  {
   "cell_type": "code",
   "execution_count": 180,
   "metadata": {
    "ExecuteTime": {
     "end_time": "2019-10-28T07:56:29.643204Z",
     "start_time": "2019-10-28T07:56:29.522098Z"
    }
   },
   "outputs": [],
   "source": [
    "# lấy dữ liệu cho tập data train negative\n",
    "listfile_neg = listdir(TEST_PATH_NEG)\n",
    "listfile_neg = enumerate(listfile_neg)\n",
    "counter = 1\n",
    "for index, file_neg in listfile_neg:\n",
    "    try:\n",
    "        with open(TEST_PATH_NEG + file_neg) as f_neg:\n",
    "            noidung_neg = f_neg.read()\n",
    "            noidung_neg = noidung_neg.lower()\n",
    "            # đánh label cho data train negative là 2\n",
    "            data_test.append((index, noidung_neg, 2.0))\n",
    "            if counter >= NUMBER_INSTANCE_FOR_PC:\n",
    "                break\n",
    "            else:\n",
    "                counter = counter + 1\n",
    "    except Exception as e:\n",
    "        print(e)"
   ]
  },
  {
   "cell_type": "markdown",
   "metadata": {},
   "source": [
    "<h4>\n",
    "    <p style=\"color:red\">\n",
    "        Tạo đối tượng DataFrame trong Spark để chứa dữ liệu train, đây là kiểu dữ liệu chuẩn trong việc xử lý phân tán và có thể thao tác dưới dạng SQL, lúc này dữ liệu train đã ở dạng phân tán khắp cluster\n",
    "    </p>\n",
    "</h4>"
   ]
  },
  {
   "cell_type": "code",
   "execution_count": 181,
   "metadata": {
    "ExecuteTime": {
     "end_time": "2019-10-28T07:56:35.311291Z",
     "start_time": "2019-10-28T07:56:35.233238Z"
    }
   },
   "outputs": [],
   "source": [
    "# tạo DataFrame trong Spark\n",
    "sentenceDataFrame_test = spark.createDataFrame(data_test,\n",
    "                                               [\"id\", \"sentence\", \"label\"])"
   ]
  },
  {
   "cell_type": "code",
   "execution_count": 182,
   "metadata": {
    "ExecuteTime": {
     "end_time": "2019-10-28T07:56:39.677634Z",
     "start_time": "2019-10-28T07:56:39.178267Z"
    }
   },
   "outputs": [
    {
     "name": "stdout",
     "output_type": "stream",
     "text": [
      "+---+--------------------+-----+\n",
      "| id|            sentence|label|\n",
      "+---+--------------------+-----+\n",
      "|  0|i went and saw th...|  1.0|\n",
      "|  1|actor turned dire...|  1.0|\n",
      "|  2|as a recreational...|  1.0|\n",
      "|  3|i saw this film i...|  1.0|\n",
      "|  4|bill paxton has t...|  1.0|\n",
      "|  5|i saw this film o...|  1.0|\n",
      "|  6|maybe i'm reading...|  1.0|\n",
      "|  7|i felt this film ...|  1.0|\n",
      "|  8|this movie is ama...|  1.0|\n",
      "|  9|\"quitting\" may be...|  1.0|\n",
      "| 10|i loved this movi...|  1.0|\n",
      "| 11|i was fortunate t...|  1.0|\n",
      "| 12|i first saw this ...|  1.0|\n",
      "| 13|i must say, every...|  1.0|\n",
      "| 14|my wife is a ment...|  1.0|\n",
      "| 15|i saw this film a...|  1.0|\n",
      "| 16|\"night of the hun...|  1.0|\n",
      "| 17|even if you're a ...|  1.0|\n",
      "| 18|i was surprised h...|  1.0|\n",
      "| 19|i went into \"nigh...|  1.0|\n",
      "| 20|i have certainly ...|  1.0|\n",
      "| 21|since this cartoo...|  1.0|\n",
      "| 22|despite the title...|  1.0|\n",
      "| 23|felix in hollywoo...|  1.0|\n",
      "| 24|a gem of a cartoo...|  1.0|\n",
      "| 25|this short is one...|  1.0|\n",
      "| 26|felix is watching...|  1.0|\n",
      "| 27|while i can't say...|  1.0|\n",
      "| 28|errol flynn's rog...|  1.0|\n",
      "| 29|warner brothers t...|  1.0|\n",
      "| 30|if you keep rigid...|  1.0|\n",
      "| 31|after working on ...|  1.0|\n",
      "| 32|i first viewed \"t...|  1.0|\n",
      "| 33|i was fortunate t...|  1.0|\n",
      "| 34|i blame \"birth of...|  1.0|\n",
      "| 35|being warner brot...|  1.0|\n",
      "| 36|when one stops to...|  1.0|\n",
      "| 37|the historical in...|  1.0|\n",
      "| 38|it's true that \"t...|  1.0|\n",
      "| 39|the film is excel...|  1.0|\n",
      "| 40|now this is more ...|  1.0|\n",
      "| 41|this movie is goo...|  1.0|\n",
      "| 42|naturally, along ...|  1.0|\n",
      "| 43|as a history of c...|  1.0|\n",
      "| 44|so keira knightly...|  1.0|\n",
      "| 45|although \"they di...|  1.0|\n",
      "| 46|errol flynn at hi...|  1.0|\n",
      "| 47|the saving grace ...|  1.0|\n",
      "| 48|this is awesome!!...|  1.0|\n",
      "| 49|george armstrong ...|  1.0|\n",
      "| 50|whether one views...|  1.0|\n",
      "| 51|great historical ...|  1.0|\n",
      "| 52|i saw this film o...|  1.0|\n",
      "| 53|although this fil...|  1.0|\n",
      "| 54|this is a wonderf...|  1.0|\n",
      "| 55|can you capture t...|  1.0|\n",
      "| 56|the custer legend...|  1.0|\n",
      "| 57|all in all, an ex...|  1.0|\n",
      "| 58|dashing errol fly...|  1.0|\n",
      "| 59|i had seen this m...|  1.0|\n",
      "| 60|nicole finn (mado...|  1.0|\n",
      "| 61|i have to rate th...|  1.0|\n",
      "| 62|i haven't been a ...|  1.0|\n",
      "| 63|nikki finn is the...|  1.0|\n",
      "| 64|when i see a movi...|  1.0|\n",
      "| 65|why does everyone...|  1.0|\n",
      "| 66|in this tv specia...|  1.0|\n",
      "| 67|this movie is so ...|  1.0|\n",
      "| 68|one of the funnie...|  1.0|\n",
      "| 69|for late-80s chee...|  1.0|\n",
      "| 70|fantastic, madonn...|  1.0|\n",
      "| 71|i had seen this m...|  1.0|\n",
      "| 72|if this film had ...|  1.0|\n",
      "| 73|madonna gets into...|  1.0|\n",
      "| 74|i am really sad t...|  1.0|\n",
      "| 75|\"what's his name?...|  1.0|\n",
      "| 76|i love this movie...|  1.0|\n",
      "| 77|[contains spoiler...|  1.0|\n",
      "| 78|don't listen to w...|  1.0|\n",
      "| 79|i kid you not. ye...|  1.0|\n",
      "| 80|if you like madon...|  1.0|\n",
      "| 81|so, madonna isn't...|  1.0|\n",
      "| 82|i saw this movie ...|  1.0|\n",
      "| 83|watching this lit...|  1.0|\n",
      "| 84|i loved this movi...|  1.0|\n",
      "| 85|a quite easy to w...|  1.0|\n",
      "| 86|it's strange how ...|  1.0|\n",
      "| 87|finding this piec...|  1.0|\n",
      "| 88|i am a huge fan o...|  1.0|\n",
      "| 89|this was a great ...|  1.0|\n",
      "| 90|is this a bad mov...|  1.0|\n",
      "| 91|i`ve seen this mo...|  1.0|\n",
      "| 92|this is a cut abo...|  1.0|\n",
      "| 93|we open in a doct...|  1.0|\n",
      "| 94|this is one of th...|  1.0|\n",
      "| 95|\"tale of two sist...|  1.0|\n",
      "| 96|another asian hor...|  1.0|\n",
      "| 97|what can i say ab...|  1.0|\n",
      "| 98|disgused as an as...|  1.0|\n",
      "| 99|this was one of t...|  1.0|\n",
      "+---+--------------------+-----+\n",
      "only showing top 100 rows\n",
      "\n"
     ]
    }
   ],
   "source": [
    "sentenceDataFrame_test.show(100)"
   ]
  },
  {
   "cell_type": "markdown",
   "metadata": {},
   "source": [
    "<h4>\n",
    "    <p style=\"color:red\">\n",
    "      Dùng model TF-IDF đã train (ở trên) áp dụng (transform) lên dữ liệu test đã tạo để có được feature vector\n",
    "    </p>\n",
    "</h4>"
   ]
  },
  {
   "cell_type": "code",
   "execution_count": 183,
   "metadata": {
    "ExecuteTime": {
     "end_time": "2019-10-28T07:56:58.486239Z",
     "start_time": "2019-10-28T07:56:58.433190Z"
    }
   },
   "outputs": [],
   "source": [
    "df_data_test = modelF.transform(sentenceDataFrame_test)"
   ]
  },
  {
   "cell_type": "code",
   "execution_count": 184,
   "metadata": {
    "ExecuteTime": {
     "end_time": "2019-10-28T07:57:02.339506Z",
     "start_time": "2019-10-28T07:57:01.681042Z"
    }
   },
   "outputs": [
    {
     "name": "stdout",
     "output_type": "stream",
     "text": [
      "+---+--------------------+-----+--------------------+--------------------+--------------------+--------------------+\n",
      "| id|            sentence|label|           words_raw|            filtered|         rawFeatures|            features|\n",
      "+---+--------------------+-----+--------------------+--------------------+--------------------+--------------------+\n",
      "|  0|i went and saw th...|  1.0|[i, went, and, sa...|[went, saw, movie...|(500,[5,6,11,15,4...|(500,[5,6,11,15,4...|\n",
      "|  1|actor turned dire...|  1.0|[actor, turned, d...|[actor, turned, d...|(500,[3,10,12,15,...|(500,[3,10,12,15,...|\n",
      "|  2|as a recreational...|  1.0|[as, a, recreatio...|[recreational, go...|(500,[4,8,9,10,18...|(500,[4,8,9,10,18...|\n",
      "|  3|i saw this film i...|  1.0|[i, saw, this, fi...|[saw, film, sneak...|(500,[3,9,25,44,4...|(500,[3,9,25,44,4...|\n",
      "|  4|bill paxton has t...|  1.0|[bill, paxton, ha...|[bill, paxton, ta...|(500,[3,5,12,18,1...|(500,[3,5,12,18,1...|\n",
      "|  5|i saw this film o...|  1.0|[i, saw, this, fi...|[saw, film, septe...|(500,[0,1,3,5,8,1...|(500,[0,1,3,5,8,1...|\n",
      "|  6|maybe i'm reading...|  1.0|[maybe, i'm, read...|[maybe, reading, ...|(500,[0,3,22,24,2...|(500,[0,3,22,24,2...|\n",
      "|  7|i felt this film ...|  1.0|[i, felt, this, f...|[felt, film, many...|(500,[3,4,5,10,12...|(500,[3,4,5,10,12...|\n",
      "|  8|this movie is ama...|  1.0|[this, movie, is,...|[movie, amazing, ...|(500,[12,13,15,25...|(500,[12,13,15,25...|\n",
      "|  9|\"quitting\" may be...|  1.0|[\"quitting\", may,...|[\"quitting\", may,...|(500,[0,4,5,6,8,9...|(500,[0,4,5,6,8,9...|\n",
      "| 10|i loved this movi...|  1.0|[i, loved, this, ...|[loved, movie, be...|(500,[0,7,10,13,1...|(500,[0,7,10,13,1...|\n",
      "| 11|i was fortunate t...|  1.0|[i, was, fortunat...|[fortunate, atten...|(500,[6,10,31,32,...|(500,[6,10,31,32,...|\n",
      "| 12|i first saw this ...|  1.0|[i, first, saw, t...|[first, saw, movi...|(500,[3,4,13,15,2...|(500,[3,4,13,15,2...|\n",
      "| 13|i must say, every...|  1.0|[i, must, say,, e...|[must, say,, ever...|(500,[0,4,12,15,1...|(500,[0,4,12,15,1...|\n",
      "| 14|my wife is a ment...|  1.0|[my, wife, is, a,...|[wife, mental, he...|(500,[4,15,20,21,...|(500,[4,15,20,21,...|\n",
      "| 15|i saw this film a...|  1.0|[i, saw, this, fi...|[saw, film, rotte...|(500,[3,6,12,13,1...|(500,[3,6,12,13,1...|\n",
      "| 16|\"night of the hun...|  1.0|[\"night, of, the,...|[\"night, hunted\",...|(500,[3,6,11,18,2...|(500,[3,6,11,18,2...|\n",
      "| 17|even if you're a ...|  1.0|[even, if, you're...|[even, fan, jean,...|(500,[3,4,7,8,11,...|(500,[3,4,7,8,11,...|\n",
      "| 18|i was surprised h...|  1.0|[i, was, surprise...|[surprised, much,...|(500,[13,24,27,34...|(500,[13,24,27,34...|\n",
      "| 19|i went into \"nigh...|  1.0|[i, went, into, \"...|[went, \"night, hu...|(500,[9,20,25,29,...|(500,[9,20,25,29,...|\n",
      "| 20|i have certainly ...|  1.0|[i, have, certain...|[certainly, seen,...|(500,[5,6,10,13,1...|(500,[5,6,10,13,1...|\n",
      "| 21|since this cartoo...|  1.0|[since, this, car...|[since, cartoon, ...|(500,[4,11,13,25,...|(500,[4,11,13,25,...|\n",
      "| 22|despite the title...|  1.0|[despite, the, ti...|[despite, title, ...|(500,[3,5,10,12,1...|(500,[3,5,10,12,1...|\n",
      "| 23|felix in hollywoo...|  1.0|[felix, in, holly...|[felix, hollywood...|(500,[3,14,22,23,...|(500,[3,14,22,23,...|\n",
      "| 24|a gem of a cartoo...|  1.0|[a, gem, of, a, c...|[gem, cartoon, si...|(500,[23,43,60,69...|(500,[23,43,60,69...|\n",
      "| 25|this short is one...|  1.0|[this, short, is,...|[short, one, best...|(500,[3,13,19,30,...|(500,[3,13,19,30,...|\n",
      "| 26|felix is watching...|  1.0|[felix, is, watch...|[felix, watching,...|(500,[3,4,8,10,12...|(500,[3,4,8,10,12...|\n",
      "| 27|while i can't say...|  1.0|[while, i, can't,...|[say, whether, la...|(500,[13,17,24,25...|(500,[13,17,24,25...|\n",
      "| 28|errol flynn's rog...|  1.0|[errol, flynn's, ...|[errol, flynn's, ...|(500,[5,6,15,24,2...|(500,[5,6,15,24,2...|\n",
      "| 29|warner brothers t...|  1.0|[warner, brothers...|[warner, brothers...|(500,[3,5,8,10,11...|(500,[3,5,8,10,11...|\n",
      "| 30|if you keep rigid...|  1.0|[if, you, keep, r...|[keep, rigid, his...|(500,[2,3,6,7,10,...|(500,[2,3,6,7,10,...|\n",
      "| 31|after working on ...|  1.0|[after, working, ...|[working, 7, movi...|(500,[3,5,6,7,9,1...|(500,[3,5,6,7,9,1...|\n",
      "| 32|i first viewed \"t...|  1.0|[i, first, viewed...|[first, viewed, \"...|(500,[1,2,3,4,5,6...|(500,[1,2,3,4,5,6...|\n",
      "| 33|i was fortunate t...|  1.0|[i, was, fortunat...|[fortunate, atten...|(500,[6,10,31,32,...|(500,[6,10,31,32,...|\n",
      "| 34|i blame \"birth of...|  1.0|[i, blame, \"birth...|[blame, \"birth, n...|(500,[1,4,10,21,2...|(500,[1,4,10,21,2...|\n",
      "| 35|being warner brot...|  1.0|[being, warner, b...|[warner, brothers...|(500,[1,3,4,6,8,1...|(500,[1,3,4,6,8,1...|\n",
      "| 36|when one stops to...|  1.0|[when, one, stops...|[one, stops, reco...|(500,[1,3,5,11,16...|(500,[1,3,5,11,16...|\n",
      "| 37|the historical in...|  1.0|[the, historical,...|[historical, inac...|(500,[3,22,24,25,...|(500,[3,22,24,25,...|\n",
      "| 38|it's true that \"t...|  1.0|[it's, true, that...|[true, \"they, die...|(500,[1,3,4,5,8,1...|(500,[1,3,4,5,8,1...|\n",
      "| 39|the film is excel...|  1.0|[the, film, is, e...|[film, excellent....|(500,[3,5,12,16,2...|(500,[3,5,12,16,2...|\n",
      "| 40|now this is more ...|  1.0|[now, this, is, m...|[like, it!one, be...|(500,[1,4,10,13,1...|(500,[1,4,10,13,1...|\n",
      "| 41|this movie is goo...|  1.0|[this, movie, is,...|[movie, good, ent...|(500,[3,5,13,15,1...|(500,[3,5,13,15,1...|\n",
      "| 42|naturally, along ...|  1.0|[naturally,, alon...|[naturally,, alon...|(500,[3,5,13,15,1...|(500,[3,5,13,15,1...|\n",
      "| 43|as a history of c...|  1.0|[as, a, history, ...|[history, custer,...|(500,[13,43,57,19...|(500,[13,43,57,19...|\n",
      "| 44|so keira knightly...|  1.0|[so, keira, knigh...|[keira, knightly,...|(500,[3,5,16,25,2...|(500,[3,5,16,25,2...|\n",
      "| 45|although \"they di...|  1.0|[although, \"they,...|[although, \"they,...|(500,[5,13,26,39,...|(500,[5,13,26,39,...|\n",
      "| 46|errol flynn at hi...|  1.0|[errol, flynn, at...|[errol, flynn, be...|(500,[4,22,25,27,...|(500,[4,22,25,27,...|\n",
      "| 47|the saving grace ...|  1.0|[the, saving, gra...|[saving, grace, f...|(500,[3,4,8,14,15...|(500,[3,4,8,14,15...|\n",
      "| 48|this is awesome!!...|  1.0|[this, is, awesom...|[awesome!!!, part...|(500,[6,11,19,21,...|(500,[6,11,19,21,...|\n",
      "| 49|george armstrong ...|  1.0|[george, armstron...|[george, armstron...|(500,[0,1,2,5,13,...|(500,[0,1,2,5,13,...|\n",
      "| 50|whether one views...|  1.0|[whether, one, vi...|[whether, one, vi...|(500,[1,2,3,6,7,1...|(500,[1,2,3,6,7,1...|\n",
      "| 51|great historical ...|  1.0|[great, historica...|[great, historica...|(500,[4,10,13,38,...|(500,[4,10,13,38,...|\n",
      "| 52|i saw this film o...|  1.0|[i, saw, this, fi...|[saw, film, chris...|(500,[3,5,12,13,2...|(500,[3,5,12,13,2...|\n",
      "| 53|although this fil...|  1.0|[although, this, ...|[although, film, ...|(500,[3,22,25,45,...|(500,[3,22,25,45,...|\n",
      "| 54|this is a wonderf...|  1.0|[this, is, a, won...|[wonderful, film,...|(500,[1,2,3,4,5,6...|(500,[1,2,3,4,5,6...|\n",
      "| 55|can you capture t...|  1.0|[can, you, captur...|[capture, moment?...|(500,[3,4,5,6,9,1...|(500,[3,4,5,6,9,1...|\n",
      "| 56|the custer legend...|  1.0|[the, custer, leg...|[custer, legend,,...|(500,[8,24,26,44,...|(500,[8,24,26,44,...|\n",
      "| 57|all in all, an ex...|  1.0|[all, in, all,, a...|[all,, excellent,...|(500,[3,4,9,10,11...|(500,[3,4,9,10,11...|\n",
      "| 58|dashing errol fly...|  1.0|[dashing, errol, ...|[dashing, errol, ...|(500,[3,10,18,22,...|(500,[3,10,18,22,...|\n",
      "| 59|i had seen this m...|  1.0|[i, had, seen, th...|[seen, movie, kid...|(500,[10,11,12,19...|(500,[10,11,12,19...|\n",
      "| 60|nicole finn (mado...|  1.0|[nicole, finn, (m...|[nicole, finn, (m...|(500,[0,2,3,13,14...|(500,[0,2,3,13,14...|\n",
      "| 61|i have to rate th...|  1.0|[i, have, to, rat...|[rate, movie, 10....|(500,[6,19,20,24,...|(500,[6,19,20,24,...|\n",
      "| 62|i haven't been a ...|  1.0|[i, haven't, been...|[fan, madonna, qu...|(500,[0,3,5,10,15...|(500,[0,3,5,10,15...|\n",
      "| 63|nikki finn is the...|  1.0|[nikki, finn, is,...|[nikki, finn, kin...|(500,[13,24,29,32...|(500,[13,24,29,32...|\n",
      "| 64|when i see a movi...|  1.0|[when, i, see, a,...|[see, movie,, usu...|(500,[3,12,13,15,...|(500,[3,12,13,15,...|\n",
      "| 65|why does everyone...|  1.0|[why, does, every...|[everyone, feel, ...|(500,[38,49,65,78...|(500,[38,49,65,78...|\n",
      "| 66|in this tv specia...|  1.0|[in, this, tv, sp...|[tv, special, jon...|(500,[10,15,24,25...|(500,[10,15,24,25...|\n",
      "| 67|this movie is so ...|  1.0|[this, movie, is,...|[movie, good!, fi...|(500,[34,41,48,69...|(500,[34,41,48,69...|\n",
      "| 68|one of the funnie...|  1.0|[one, of, the, fu...|[one, funniest,, ...|(500,[23,25,44,67...|(500,[23,25,44,67...|\n",
      "| 69|for late-80s chee...|  1.0|[for, late-80s, c...|[late-80s, cheese...|(500,[3,5,7,12,16...|(500,[3,5,7,12,16...|\n",
      "| 70|fantastic, madonn...|  1.0|[fantastic,, mado...|[fantastic,, mado...|(500,[3,24,34,35,...|(500,[3,24,34,35,...|\n",
      "| 71|i had seen this m...|  1.0|[i, had, seen, th...|[seen, movie, bef...|(500,[17,29,62,88...|(500,[17,29,62,88...|\n",
      "| 72|if this film had ...|  1.0|[if, this, film, ...|[film, made, 50's...|(500,[1,2,3,5,22,...|(500,[1,2,3,5,22,...|\n",
      "| 73|madonna gets into...|  1.0|[madonna, gets, i...|[madonna, gets, a...|(500,[5,12,29,31,...|(500,[5,12,29,31,...|\n",
      "| 74|i am really sad t...|  1.0|[i, am, really, s...|[really, sad, fil...|(500,[1,3,5,7,22,...|(500,[1,3,5,7,22,...|\n",
      "| 75|\"what's his name?...|  1.0|[\"what's, his, na...|[\"what's, name?\",...|(500,[2,3,14,18,2...|(500,[2,3,14,18,2...|\n",
      "| 76|i love this movie...|  1.0|[i, love, this, m...|[love, movie!!, s...|(500,[3,5,7,13,15...|(500,[3,5,7,13,15...|\n",
      "| 77|[contains spoiler...|  1.0|[[contains, spoil...|[[contains, spoil...|(500,[0,4,5,13,15...|(500,[0,4,5,13,15...|\n",
      "| 78|don't listen to w...|  1.0|[don't, listen, t...|[listen, critics,...|(500,[13,26,44,47...|(500,[13,26,44,47...|\n",
      "| 79|i kid you not. ye...|  1.0|[i, kid, you, not...|[kid, not., yes,,...|(500,[1,5,6,7,10,...|(500,[1,5,6,7,10,...|\n",
      "| 80|if you like madon...|  1.0|[if, you, like, m...|[like, madonna, n...|(500,[3,4,14,15,1...|(500,[3,4,14,15,1...|\n",
      "| 81|so, madonna isn't...|  1.0|[so,, madonna, is...|[so,, madonna, me...|(500,[1,3,12,13,1...|(500,[1,3,12,13,1...|\n",
      "| 82|i saw this movie ...|  1.0|[i, saw, this, mo...|[saw, movie, day,...|(500,[10,14,15,16...|(500,[10,14,15,16...|\n",
      "| 83|watching this lit...|  1.0|[watching, this, ...|[watching, little...|(500,[8,13,14,17,...|(500,[8,13,14,17,...|\n",
      "| 84|i loved this movi...|  1.0|[i, loved, this, ...|[loved, movie., b...|(500,[0,10,57,78,...|(500,[0,10,57,78,...|\n",
      "| 85|a quite easy to w...|  1.0|[a, quite, easy, ...|[quite, easy, wat...|(500,[4,23,26,36,...|(500,[4,23,26,36,...|\n",
      "| 86|it's strange how ...|  1.0|[it's, strange, h...|[strange, least, ...|(500,[3,6,35,36,4...|(500,[3,6,35,36,4...|\n",
      "| 87|finding this piec...|  1.0|[finding, this, p...|[finding, piece, ...|(500,[4,10,36,40,...|(500,[4,10,36,40,...|\n",
      "| 88|i am a huge fan o...|  1.0|[i, am, a, huge, ...|[huge, fan, haral...|(500,[10,15,19,25...|(500,[10,15,19,25...|\n",
      "| 89|this was a great ...|  1.0|[this, was, a, gr...|[great, movie!, c...|(500,[6,8,11,12,1...|(500,[6,8,11,12,1...|\n",
      "| 90|is this a bad mov...|  1.0|[is, this, a, bad...|[bad, movie?<br, ...|(500,[3,4,6,13,19...|(500,[3,4,6,13,19...|\n",
      "| 91|i`ve seen this mo...|  1.0|[i`ve, seen, this...|[i`ve, seen, movi...|(500,[15,18,21,23...|(500,[15,18,21,23...|\n",
      "| 92|this is a cut abo...|  1.0|[this, is, a, cut...|[cut, movies, gen...|(500,[2,3,4,6,23,...|(500,[2,3,4,6,23,...|\n",
      "| 93|we open in a doct...|  1.0|[we, open, in, a,...|[open, doctors, r...|(500,[3,10,17,24,...|(500,[3,10,17,24,...|\n",
      "| 94|this is one of th...|  1.0|[this, is, one, o...|[one, best, movie...|(500,[0,10,11,15,...|(500,[0,10,11,15,...|\n",
      "| 95|\"tale of two sist...|  1.0|[\"tale, of, two, ...|[\"tale, two, sist...|(500,[20,24,26,33...|(500,[20,24,26,33...|\n",
      "| 96|another asian hor...|  1.0|[another, asian, ...|[another, asian, ...|(500,[0,3,11,18,3...|(500,[0,3,11,18,3...|\n",
      "| 97|what can i say ab...|  1.0|[what, can, i, sa...|[say, film, give,...|(500,[1,3,15,25,2...|(500,[1,3,15,25,2...|\n",
      "| 98|disgused as an as...|  1.0|[disgused, as, an...|[disgused, asian,...|(500,[0,3,4,5,6,9...|(500,[0,3,4,5,6,9...|\n",
      "| 99|this was one of t...|  1.0|[this, was, one, ...|[one, norwegian, ...|(500,[4,7,12,15,4...|(500,[4,7,12,15,4...|\n",
      "+---+--------------------+-----+--------------------+--------------------+--------------------+--------------------+\n",
      "only showing top 100 rows\n",
      "\n"
     ]
    }
   ],
   "source": [
    "df_data_test.show(100)"
   ]
  },
  {
   "cell_type": "markdown",
   "metadata": {},
   "source": [
    "<h4>\n",
    "    <p style=\"color:green\">\n",
    "      Sử dụng model BigDL để predict data test\n",
    "    </p>\n",
    "</h4>"
   ]
  },
  {
   "cell_type": "code",
   "execution_count": 185,
   "metadata": {
    "ExecuteTime": {
     "end_time": "2019-10-28T07:57:14.027721Z",
     "start_time": "2019-10-28T07:57:13.937631Z"
    }
   },
   "outputs": [],
   "source": [
    "data_test_after_transform = dlModel.transform(df_data_test)"
   ]
  },
  {
   "cell_type": "code",
   "execution_count": 186,
   "metadata": {
    "ExecuteTime": {
     "end_time": "2019-10-28T07:57:18.409925Z",
     "start_time": "2019-10-28T07:57:17.553317Z"
    }
   },
   "outputs": [
    {
     "name": "stdout",
     "output_type": "stream",
     "text": [
      "+---+--------------------+-----+--------------------+--------------------+--------------------+--------------------+----------+\n",
      "| id|            sentence|label|           words_raw|            filtered|         rawFeatures|            features|prediction|\n",
      "+---+--------------------+-----+--------------------+--------------------+--------------------+--------------------+----------+\n",
      "|  0|i went and saw th...|  1.0|[i, went, and, sa...|[went, saw, movie...|(500,[5,6,11,15,4...|(500,[5,6,11,15,4...|       1.0|\n",
      "|  1|actor turned dire...|  1.0|[actor, turned, d...|[actor, turned, d...|(500,[3,10,12,15,...|(500,[3,10,12,15,...|       1.0|\n",
      "|  2|as a recreational...|  1.0|[as, a, recreatio...|[recreational, go...|(500,[4,8,9,10,18...|(500,[4,8,9,10,18...|       2.0|\n",
      "|  3|i saw this film i...|  1.0|[i, saw, this, fi...|[saw, film, sneak...|(500,[3,9,25,44,4...|(500,[3,9,25,44,4...|       1.0|\n",
      "|  4|bill paxton has t...|  1.0|[bill, paxton, ha...|[bill, paxton, ta...|(500,[3,5,12,18,1...|(500,[3,5,12,18,1...|       1.0|\n",
      "|  5|i saw this film o...|  1.0|[i, saw, this, fi...|[saw, film, septe...|(500,[0,1,3,5,8,1...|(500,[0,1,3,5,8,1...|       1.0|\n",
      "|  6|maybe i'm reading...|  1.0|[maybe, i'm, read...|[maybe, reading, ...|(500,[0,3,22,24,2...|(500,[0,3,22,24,2...|       1.0|\n",
      "|  7|i felt this film ...|  1.0|[i, felt, this, f...|[felt, film, many...|(500,[3,4,5,10,12...|(500,[3,4,5,10,12...|       1.0|\n",
      "|  8|this movie is ama...|  1.0|[this, movie, is,...|[movie, amazing, ...|(500,[12,13,15,25...|(500,[12,13,15,25...|       2.0|\n",
      "|  9|\"quitting\" may be...|  1.0|[\"quitting\", may,...|[\"quitting\", may,...|(500,[0,4,5,6,8,9...|(500,[0,4,5,6,8,9...|       2.0|\n",
      "| 10|i loved this movi...|  1.0|[i, loved, this, ...|[loved, movie, be...|(500,[0,7,10,13,1...|(500,[0,7,10,13,1...|       1.0|\n",
      "| 11|i was fortunate t...|  1.0|[i, was, fortunat...|[fortunate, atten...|(500,[6,10,31,32,...|(500,[6,10,31,32,...|       1.0|\n",
      "| 12|i first saw this ...|  1.0|[i, first, saw, t...|[first, saw, movi...|(500,[3,4,13,15,2...|(500,[3,4,13,15,2...|       2.0|\n",
      "| 13|i must say, every...|  1.0|[i, must, say,, e...|[must, say,, ever...|(500,[0,4,12,15,1...|(500,[0,4,12,15,1...|       1.0|\n",
      "| 14|my wife is a ment...|  1.0|[my, wife, is, a,...|[wife, mental, he...|(500,[4,15,20,21,...|(500,[4,15,20,21,...|       2.0|\n",
      "| 15|i saw this film a...|  1.0|[i, saw, this, fi...|[saw, film, rotte...|(500,[3,6,12,13,1...|(500,[3,6,12,13,1...|       1.0|\n",
      "| 16|\"night of the hun...|  1.0|[\"night, of, the,...|[\"night, hunted\",...|(500,[3,6,11,18,2...|(500,[3,6,11,18,2...|       1.0|\n",
      "| 17|even if you're a ...|  1.0|[even, if, you're...|[even, fan, jean,...|(500,[3,4,7,8,11,...|(500,[3,4,7,8,11,...|       1.0|\n",
      "| 18|i was surprised h...|  1.0|[i, was, surprise...|[surprised, much,...|(500,[13,24,27,34...|(500,[13,24,27,34...|       1.0|\n",
      "| 19|i went into \"nigh...|  1.0|[i, went, into, \"...|[went, \"night, hu...|(500,[9,20,25,29,...|(500,[9,20,25,29,...|       2.0|\n",
      "| 20|i have certainly ...|  1.0|[i, have, certain...|[certainly, seen,...|(500,[5,6,10,13,1...|(500,[5,6,10,13,1...|       2.0|\n",
      "| 21|since this cartoo...|  1.0|[since, this, car...|[since, cartoon, ...|(500,[4,11,13,25,...|(500,[4,11,13,25,...|       2.0|\n",
      "| 22|despite the title...|  1.0|[despite, the, ti...|[despite, title, ...|(500,[3,5,10,12,1...|(500,[3,5,10,12,1...|       1.0|\n",
      "| 23|felix in hollywoo...|  1.0|[felix, in, holly...|[felix, hollywood...|(500,[3,14,22,23,...|(500,[3,14,22,23,...|       1.0|\n",
      "| 24|a gem of a cartoo...|  1.0|[a, gem, of, a, c...|[gem, cartoon, si...|(500,[23,43,60,69...|(500,[23,43,60,69...|       1.0|\n",
      "| 25|this short is one...|  1.0|[this, short, is,...|[short, one, best...|(500,[3,13,19,30,...|(500,[3,13,19,30,...|       1.0|\n",
      "| 26|felix is watching...|  1.0|[felix, is, watch...|[felix, watching,...|(500,[3,4,8,10,12...|(500,[3,4,8,10,12...|       2.0|\n",
      "| 27|while i can't say...|  1.0|[while, i, can't,...|[say, whether, la...|(500,[13,17,24,25...|(500,[13,17,24,25...|       2.0|\n",
      "| 28|errol flynn's rog...|  1.0|[errol, flynn's, ...|[errol, flynn's, ...|(500,[5,6,15,24,2...|(500,[5,6,15,24,2...|       1.0|\n",
      "| 29|warner brothers t...|  1.0|[warner, brothers...|[warner, brothers...|(500,[3,5,8,10,11...|(500,[3,5,8,10,11...|       1.0|\n",
      "| 30|if you keep rigid...|  1.0|[if, you, keep, r...|[keep, rigid, his...|(500,[2,3,6,7,10,...|(500,[2,3,6,7,10,...|       1.0|\n",
      "| 31|after working on ...|  1.0|[after, working, ...|[working, 7, movi...|(500,[3,5,6,7,9,1...|(500,[3,5,6,7,9,1...|       1.0|\n",
      "| 32|i first viewed \"t...|  1.0|[i, first, viewed...|[first, viewed, \"...|(500,[1,2,3,4,5,6...|(500,[1,2,3,4,5,6...|       1.0|\n",
      "| 33|i was fortunate t...|  1.0|[i, was, fortunat...|[fortunate, atten...|(500,[6,10,31,32,...|(500,[6,10,31,32,...|       1.0|\n",
      "| 34|i blame \"birth of...|  1.0|[i, blame, \"birth...|[blame, \"birth, n...|(500,[1,4,10,21,2...|(500,[1,4,10,21,2...|       1.0|\n",
      "| 35|being warner brot...|  1.0|[being, warner, b...|[warner, brothers...|(500,[1,3,4,6,8,1...|(500,[1,3,4,6,8,1...|       1.0|\n",
      "| 36|when one stops to...|  1.0|[when, one, stops...|[one, stops, reco...|(500,[1,3,5,11,16...|(500,[1,3,5,11,16...|       1.0|\n",
      "| 37|the historical in...|  1.0|[the, historical,...|[historical, inac...|(500,[3,22,24,25,...|(500,[3,22,24,25,...|       1.0|\n",
      "| 38|it's true that \"t...|  1.0|[it's, true, that...|[true, \"they, die...|(500,[1,3,4,5,8,1...|(500,[1,3,4,5,8,1...|       1.0|\n",
      "| 39|the film is excel...|  1.0|[the, film, is, e...|[film, excellent....|(500,[3,5,12,16,2...|(500,[3,5,12,16,2...|       1.0|\n",
      "| 40|now this is more ...|  1.0|[now, this, is, m...|[like, it!one, be...|(500,[1,4,10,13,1...|(500,[1,4,10,13,1...|       1.0|\n",
      "| 41|this movie is goo...|  1.0|[this, movie, is,...|[movie, good, ent...|(500,[3,5,13,15,1...|(500,[3,5,13,15,1...|       1.0|\n",
      "| 42|naturally, along ...|  1.0|[naturally,, alon...|[naturally,, alon...|(500,[3,5,13,15,1...|(500,[3,5,13,15,1...|       1.0|\n",
      "| 43|as a history of c...|  1.0|[as, a, history, ...|[history, custer,...|(500,[13,43,57,19...|(500,[13,43,57,19...|       1.0|\n",
      "| 44|so keira knightly...|  1.0|[so, keira, knigh...|[keira, knightly,...|(500,[3,5,16,25,2...|(500,[3,5,16,25,2...|       1.0|\n",
      "| 45|although \"they di...|  1.0|[although, \"they,...|[although, \"they,...|(500,[5,13,26,39,...|(500,[5,13,26,39,...|       1.0|\n",
      "| 46|errol flynn at hi...|  1.0|[errol, flynn, at...|[errol, flynn, be...|(500,[4,22,25,27,...|(500,[4,22,25,27,...|       1.0|\n",
      "| 47|the saving grace ...|  1.0|[the, saving, gra...|[saving, grace, f...|(500,[3,4,8,14,15...|(500,[3,4,8,14,15...|       2.0|\n",
      "| 48|this is awesome!!...|  1.0|[this, is, awesom...|[awesome!!!, part...|(500,[6,11,19,21,...|(500,[6,11,19,21,...|       2.0|\n",
      "| 49|george armstrong ...|  1.0|[george, armstron...|[george, armstron...|(500,[0,1,2,5,13,...|(500,[0,1,2,5,13,...|       1.0|\n",
      "| 50|whether one views...|  1.0|[whether, one, vi...|[whether, one, vi...|(500,[1,2,3,6,7,1...|(500,[1,2,3,6,7,1...|       1.0|\n",
      "| 51|great historical ...|  1.0|[great, historica...|[great, historica...|(500,[4,10,13,38,...|(500,[4,10,13,38,...|       1.0|\n",
      "| 52|i saw this film o...|  1.0|[i, saw, this, fi...|[saw, film, chris...|(500,[3,5,12,13,2...|(500,[3,5,12,13,2...|       1.0|\n",
      "| 53|although this fil...|  1.0|[although, this, ...|[although, film, ...|(500,[3,22,25,45,...|(500,[3,22,25,45,...|       1.0|\n",
      "| 54|this is a wonderf...|  1.0|[this, is, a, won...|[wonderful, film,...|(500,[1,2,3,4,5,6...|(500,[1,2,3,4,5,6...|       1.0|\n",
      "| 55|can you capture t...|  1.0|[can, you, captur...|[capture, moment?...|(500,[3,4,5,6,9,1...|(500,[3,4,5,6,9,1...|       1.0|\n",
      "| 56|the custer legend...|  1.0|[the, custer, leg...|[custer, legend,,...|(500,[8,24,26,44,...|(500,[8,24,26,44,...|       1.0|\n",
      "| 57|all in all, an ex...|  1.0|[all, in, all,, a...|[all,, excellent,...|(500,[3,4,9,10,11...|(500,[3,4,9,10,11...|       2.0|\n",
      "| 58|dashing errol fly...|  1.0|[dashing, errol, ...|[dashing, errol, ...|(500,[3,10,18,22,...|(500,[3,10,18,22,...|       1.0|\n",
      "| 59|i had seen this m...|  1.0|[i, had, seen, th...|[seen, movie, kid...|(500,[10,11,12,19...|(500,[10,11,12,19...|       1.0|\n",
      "| 60|nicole finn (mado...|  1.0|[nicole, finn, (m...|[nicole, finn, (m...|(500,[0,2,3,13,14...|(500,[0,2,3,13,14...|       1.0|\n",
      "| 61|i have to rate th...|  1.0|[i, have, to, rat...|[rate, movie, 10....|(500,[6,19,20,24,...|(500,[6,19,20,24,...|       1.0|\n",
      "| 62|i haven't been a ...|  1.0|[i, haven't, been...|[fan, madonna, qu...|(500,[0,3,5,10,15...|(500,[0,3,5,10,15...|       1.0|\n",
      "| 63|nikki finn is the...|  1.0|[nikki, finn, is,...|[nikki, finn, kin...|(500,[13,24,29,32...|(500,[13,24,29,32...|       1.0|\n",
      "| 64|when i see a movi...|  1.0|[when, i, see, a,...|[see, movie,, usu...|(500,[3,12,13,15,...|(500,[3,12,13,15,...|       1.0|\n",
      "| 65|why does everyone...|  1.0|[why, does, every...|[everyone, feel, ...|(500,[38,49,65,78...|(500,[38,49,65,78...|       1.0|\n",
      "| 66|in this tv specia...|  1.0|[in, this, tv, sp...|[tv, special, jon...|(500,[10,15,24,25...|(500,[10,15,24,25...|       1.0|\n",
      "| 67|this movie is so ...|  1.0|[this, movie, is,...|[movie, good!, fi...|(500,[34,41,48,69...|(500,[34,41,48,69...|       1.0|\n",
      "| 68|one of the funnie...|  1.0|[one, of, the, fu...|[one, funniest,, ...|(500,[23,25,44,67...|(500,[23,25,44,67...|       2.0|\n",
      "| 69|for late-80s chee...|  1.0|[for, late-80s, c...|[late-80s, cheese...|(500,[3,5,7,12,16...|(500,[3,5,7,12,16...|       2.0|\n",
      "| 70|fantastic, madonn...|  1.0|[fantastic,, mado...|[fantastic,, mado...|(500,[3,24,34,35,...|(500,[3,24,34,35,...|       1.0|\n",
      "| 71|i had seen this m...|  1.0|[i, had, seen, th...|[seen, movie, bef...|(500,[17,29,62,88...|(500,[17,29,62,88...|       2.0|\n",
      "| 72|if this film had ...|  1.0|[if, this, film, ...|[film, made, 50's...|(500,[1,2,3,5,22,...|(500,[1,2,3,5,22,...|       1.0|\n",
      "| 73|madonna gets into...|  1.0|[madonna, gets, i...|[madonna, gets, a...|(500,[5,12,29,31,...|(500,[5,12,29,31,...|       2.0|\n",
      "| 74|i am really sad t...|  1.0|[i, am, really, s...|[really, sad, fil...|(500,[1,3,5,7,22,...|(500,[1,3,5,7,22,...|       2.0|\n",
      "| 75|\"what's his name?...|  1.0|[\"what's, his, na...|[\"what's, name?\",...|(500,[2,3,14,18,2...|(500,[2,3,14,18,2...|       1.0|\n",
      "| 76|i love this movie...|  1.0|[i, love, this, m...|[love, movie!!, s...|(500,[3,5,7,13,15...|(500,[3,5,7,13,15...|       2.0|\n",
      "| 77|[contains spoiler...|  1.0|[[contains, spoil...|[[contains, spoil...|(500,[0,4,5,13,15...|(500,[0,4,5,13,15...|       1.0|\n",
      "| 78|don't listen to w...|  1.0|[don't, listen, t...|[listen, critics,...|(500,[13,26,44,47...|(500,[13,26,44,47...|       1.0|\n",
      "| 79|i kid you not. ye...|  1.0|[i, kid, you, not...|[kid, not., yes,,...|(500,[1,5,6,7,10,...|(500,[1,5,6,7,10,...|       1.0|\n",
      "| 80|if you like madon...|  1.0|[if, you, like, m...|[like, madonna, n...|(500,[3,4,14,15,1...|(500,[3,4,14,15,1...|       1.0|\n",
      "| 81|so, madonna isn't...|  1.0|[so,, madonna, is...|[so,, madonna, me...|(500,[1,3,12,13,1...|(500,[1,3,12,13,1...|       1.0|\n",
      "| 82|i saw this movie ...|  1.0|[i, saw, this, mo...|[saw, movie, day,...|(500,[10,14,15,16...|(500,[10,14,15,16...|       1.0|\n",
      "| 83|watching this lit...|  1.0|[watching, this, ...|[watching, little...|(500,[8,13,14,17,...|(500,[8,13,14,17,...|       2.0|\n",
      "| 84|i loved this movi...|  1.0|[i, loved, this, ...|[loved, movie., b...|(500,[0,10,57,78,...|(500,[0,10,57,78,...|       1.0|\n",
      "| 85|a quite easy to w...|  1.0|[a, quite, easy, ...|[quite, easy, wat...|(500,[4,23,26,36,...|(500,[4,23,26,36,...|       1.0|\n",
      "| 86|it's strange how ...|  1.0|[it's, strange, h...|[strange, least, ...|(500,[3,6,35,36,4...|(500,[3,6,35,36,4...|       1.0|\n",
      "| 87|finding this piec...|  1.0|[finding, this, p...|[finding, piece, ...|(500,[4,10,36,40,...|(500,[4,10,36,40,...|       2.0|\n",
      "| 88|i am a huge fan o...|  1.0|[i, am, a, huge, ...|[huge, fan, haral...|(500,[10,15,19,25...|(500,[10,15,19,25...|       1.0|\n",
      "| 89|this was a great ...|  1.0|[this, was, a, gr...|[great, movie!, c...|(500,[6,8,11,12,1...|(500,[6,8,11,12,1...|       1.0|\n",
      "| 90|is this a bad mov...|  1.0|[is, this, a, bad...|[bad, movie?<br, ...|(500,[3,4,6,13,19...|(500,[3,4,6,13,19...|       2.0|\n",
      "| 91|i`ve seen this mo...|  1.0|[i`ve, seen, this...|[i`ve, seen, movi...|(500,[15,18,21,23...|(500,[15,18,21,23...|       1.0|\n",
      "| 92|this is a cut abo...|  1.0|[this, is, a, cut...|[cut, movies, gen...|(500,[2,3,4,6,23,...|(500,[2,3,4,6,23,...|       2.0|\n",
      "| 93|we open in a doct...|  1.0|[we, open, in, a,...|[open, doctors, r...|(500,[3,10,17,24,...|(500,[3,10,17,24,...|       1.0|\n",
      "| 94|this is one of th...|  1.0|[this, is, one, o...|[one, best, movie...|(500,[0,10,11,15,...|(500,[0,10,11,15,...|       1.0|\n",
      "| 95|\"tale of two sist...|  1.0|[\"tale, of, two, ...|[\"tale, two, sist...|(500,[20,24,26,33...|(500,[20,24,26,33...|       1.0|\n",
      "| 96|another asian hor...|  1.0|[another, asian, ...|[another, asian, ...|(500,[0,3,11,18,3...|(500,[0,3,11,18,3...|       1.0|\n",
      "| 97|what can i say ab...|  1.0|[what, can, i, sa...|[say, film, give,...|(500,[1,3,15,25,2...|(500,[1,3,15,25,2...|       1.0|\n",
      "| 98|disgused as an as...|  1.0|[disgused, as, an...|[disgused, asian,...|(500,[0,3,4,5,6,9...|(500,[0,3,4,5,6,9...|       2.0|\n",
      "| 99|this was one of t...|  1.0|[this, was, one, ...|[one, norwegian, ...|(500,[4,7,12,15,4...|(500,[4,7,12,15,4...|       2.0|\n",
      "+---+--------------------+-----+--------------------+--------------------+--------------------+--------------------+----------+\n",
      "only showing top 100 rows\n",
      "\n"
     ]
    }
   ],
   "source": [
    "data_test_after_transform.show(100)"
   ]
  },
  {
   "cell_type": "markdown",
   "metadata": {},
   "source": [
    "<h4>\n",
    "    <p>\n",
    "      Tạo đối tượng Evaluator có sẵn trong Spark MLLib, đánh giá model của BigDL\n",
    "    </p>\n",
    "</h4>"
   ]
  },
  {
   "cell_type": "code",
   "execution_count": 188,
   "metadata": {
    "ExecuteTime": {
     "end_time": "2019-10-28T07:58:23.000584Z",
     "start_time": "2019-10-28T07:58:07.114206Z"
    }
   },
   "outputs": [],
   "source": [
    "evaluator = MulticlassClassificationEvaluator()\n",
    "result = evaluator.evaluate(data_test_after_transform)"
   ]
  },
  {
   "cell_type": "markdown",
   "metadata": {},
   "source": [
    "<h4>\n",
    "    <p style=\"color:red\">\n",
    "      In ra kết quả đánh giá là độ chính xác, có thể áp dụng nhiều thông số đánh giá khác. Tham khảo thêm tại:\n",
    "    </p>\n",
    "    <p>\n",
    "        <a href=\"https://spark.apache.org/docs/latest/ml-classification-regression.html#multilayer-perceptron-classifier\">https://spark.apache.org/docs/latest/ml-classification-regression.html#multilayer-perceptron-classifier</a>\n",
    "    </p>\n",
    "</h4>"
   ]
  },
  {
   "cell_type": "code",
   "execution_count": 189,
   "metadata": {
    "ExecuteTime": {
     "end_time": "2019-10-28T07:58:27.708809Z",
     "start_time": "2019-10-28T07:58:27.705807Z"
    }
   },
   "outputs": [
    {
     "data": {
      "text/plain": [
       "0.6654196170629996"
      ]
     },
     "execution_count": 189,
     "metadata": {},
     "output_type": "execute_result"
    }
   ],
   "source": [
    "result"
   ]
  },
  {
   "cell_type": "code",
   "execution_count": 191,
   "metadata": {
    "ExecuteTime": {
     "end_time": "2019-10-28T07:59:21.213302Z",
     "start_time": "2019-10-28T07:59:21.209299Z"
    }
   },
   "outputs": [
    {
     "name": "stdout",
     "output_type": "stream",
     "text": [
      "end_of_train_BigDL(Deep Neural Network Model) in Spark\n"
     ]
    }
   ],
   "source": [
    "print(\"end_of_train_BigDL(Deep Neural Network Model) in Spark\")\n",
    "spark.stop()"
   ]
  },
  {
   "cell_type": "code",
   "execution_count": null,
   "metadata": {},
   "outputs": [],
   "source": []
  }
 ],
 "metadata": {
  "kernelspec": {
   "display_name": "Python 3",
   "language": "python",
   "name": "python3"
  },
  "language_info": {
   "codemirror_mode": {
    "name": "ipython",
    "version": 3
   },
   "file_extension": ".py",
   "mimetype": "text/x-python",
   "name": "python",
   "nbconvert_exporter": "python",
   "pygments_lexer": "ipython3",
   "version": "3.6.6"
  },
  "latex_envs": {
   "LaTeX_envs_menu_present": true,
   "autoclose": false,
   "autocomplete": true,
   "bibliofile": "biblio.bib",
   "cite_by": "apalike",
   "current_citInitial": 1,
   "eqLabelWithNumbers": true,
   "eqNumInitial": 1,
   "hotkeys": {
    "equation": "Ctrl-E",
    "itemize": "Ctrl-I"
   },
   "labels_anchors": false,
   "latex_user_defs": false,
   "report_style_numbering": false,
   "user_envs_cfg": false
  },
  "toc": {
   "base_numbering": 1,
   "nav_menu": {},
   "number_sections": true,
   "sideBar": true,
   "skip_h1_title": false,
   "title_cell": "Table of Contents",
   "title_sidebar": "Contents",
   "toc_cell": false,
   "toc_position": {},
   "toc_section_display": true,
   "toc_window_display": false
  },
  "varInspector": {
   "cols": {
    "lenName": 16,
    "lenType": 16,
    "lenVar": 40
   },
   "kernels_config": {
    "python": {
     "delete_cmd_postfix": "",
     "delete_cmd_prefix": "del ",
     "library": "var_list.py",
     "varRefreshCmd": "print(var_dic_list())"
    },
    "r": {
     "delete_cmd_postfix": ") ",
     "delete_cmd_prefix": "rm(",
     "library": "var_list.r",
     "varRefreshCmd": "cat(var_dic_list()) "
    }
   },
   "types_to_exclude": [
    "module",
    "function",
    "builtin_function_or_method",
    "instance",
    "_Feature"
   ],
   "window_display": true
  }
 },
 "nbformat": 4,
 "nbformat_minor": 2
}
